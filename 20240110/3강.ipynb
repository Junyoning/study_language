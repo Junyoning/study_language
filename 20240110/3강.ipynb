{
 "cells": [
  {
   "cell_type": "code",
   "execution_count": 1,
   "id": "c0181632-0344-4c31-a537-a181b90322d0",
   "metadata": {},
   "outputs": [],
   "source": [
    "# 더하기: +, 빼기: -, 곱하기: *, 나누기: /, 몫: //, 나머지:  %, 제곱: **"
   ]
  },
  {
   "cell_type": "code",
   "execution_count": 2,
   "id": "d5815838-85d0-4bf5-aff9-c0f03cc9024e",
   "metadata": {},
   "outputs": [],
   "source": [
    "# 리스트이름 = [0번 요소, 1번 요소 ....], 튜플이름 = (0번요소, 1번요소....)"
   ]
  },
  {
   "cell_type": "code",
   "execution_count": 3,
   "id": "47096aab-c553-4cb6-bbd1-5201be3d81ba",
   "metadata": {},
   "outputs": [],
   "source": [
    "# 리스트 요소는 변경 가능, 튜플은 불가능"
   ]
  },
  {
   "cell_type": "code",
   "execution_count": 7,
   "id": "ff113805-0a12-441d-90db-56ce3f01d076",
   "metadata": {},
   "outputs": [
    {
     "name": "stdin",
     "output_type": "stream",
     "text": [
      "첫 번째 숫자 입력:  1\n",
      "두 번째 숫자 입력:  1\n"
     ]
    },
    {
     "name": "stdout",
     "output_type": "stream",
     "text": [
      "1 + 1 = 11\n",
      "input은 문자로 받아와서 저런 값이 나옴\n"
     ]
    }
   ],
   "source": [
    "no1 = input(\"첫 번째 숫자 입력: \")\n",
    "no2 = input(\"두 번째 숫자 입력: \")\n",
    "\n",
    "print(\"%s + %s = %s\" %(no1, no2, no1 + no2))\n",
    "print(\"input은 문자로 받아와서 저런 값이 나옴\")"
   ]
  },
  {
   "cell_type": "code",
   "execution_count": 11,
   "id": "7271514d-a566-4f0d-aae2-80a6460e6df1",
   "metadata": {},
   "outputs": [
    {
     "name": "stdin",
     "output_type": "stream",
     "text": [
      "첫 번째 숫자 입력:  1\n",
      "두 번째 숫자 입력:  1\n"
     ]
    },
    {
     "name": "stdout",
     "output_type": "stream",
     "text": [
      "1 + 1 = 2\n",
      "input으로 받아오는 것은 int로 정수로 바꿔줘야됨\n"
     ]
    }
   ],
   "source": [
    "no3 = int(input(\"첫 번째 숫자 입력: \"))\n",
    "no4 = int(input(\"두 번째 숫자 입력: \"))\n",
    "\n",
    "print(\"%s + %s = %s\" %(no3, no4, no3 + no4))\n",
    "print(\"input으로 받아오는 것은 int로 정수로 바꿔줘야됨\")"
   ]
  },
  {
   "cell_type": "code",
   "execution_count": 14,
   "id": "2ce7cc4c-8b65-4a94-812c-135711a190f3",
   "metadata": {},
   "outputs": [
    {
     "name": "stdin",
     "output_type": "stream",
     "text": [
      "첫 번째 숫자 입력:  1\n",
      "두 번째 숫자 입력:  1\n"
     ]
    },
    {
     "name": "stdout",
     "output_type": "stream",
     "text": [
      "1.0 + 1.0 = 2.0\n",
      "input으로 받아오는 것은 float로 실수로 바꿔줘야됨\n"
     ]
    }
   ],
   "source": [
    "no3 = float(input(\"첫 번째 숫자 입력: \"))\n",
    "no4 = float(input(\"두 번째 숫자 입력: \"))\n",
    "\n",
    "print(\"%s + %s = %s\" %(no3, no4, no3 + no4))\n",
    "print(\"input으로 받아오는 것은 float로 실수로 바꿔줘야됨\")"
   ]
  },
  {
   "cell_type": "code",
   "execution_count": 45,
   "id": "3644a2c4-6e7f-4a28-9890-8fb91236c537",
   "metadata": {},
   "outputs": [
    {
     "name": "stdout",
     "output_type": "stream",
     "text": [
      "no값 반올림 =  3\n",
      "원래 값:  1.6666666666666667\n",
      "둘째자리 반올림:  1.67\n",
      "첫째자리 반올림:  1.7\n"
     ]
    }
   ],
   "source": [
    "# round는 반올림\n",
    "no = 3.141592\n",
    "print(\"no값 반올림 = \", round(no))\n",
    "\n",
    "no1 = 3\n",
    "no2 = 5\n",
    "print(\"원래 값: \" ,no2 / no1)\n",
    "print(\"둘째자리 반올림: \" , round(no2 / no1 , 2))\n",
    "print(\"첫째자리 반올림: \" , round(no2 / no1 , 1))"
   ]
  },
  {
   "cell_type": "code",
   "execution_count": 53,
   "id": "eb59696f-3a34-4c5c-a737-6b8a8884e82c",
   "metadata": {},
   "outputs": [
    {
     "name": "stdout",
     "output_type": "stream",
     "text": [
      "버림하기 전 =  2.5\n",
      "버린 후 =  2\n"
     ]
    }
   ],
   "source": [
    "# trunc는 버림\n",
    "import math\n",
    "no1 = 2\n",
    "no2 = 5\n",
    "\n",
    "print(\"버림하기 전 = \", no2 / no1)\n",
    "print(\"버린 후 = \", math.trunc(no2 / no1))"
   ]
  },
  {
   "cell_type": "code",
   "execution_count": 58,
   "id": "17782b73-42a1-48ac-8aa3-92fbdb9cc7ed",
   "metadata": {},
   "outputs": [
    {
     "name": "stdout",
     "output_type": "stream",
     "text": [
      "5 / 3 올림 = 2\n"
     ]
    }
   ],
   "source": [
    "# ceil은 올림\n",
    "no1 = 3\n",
    "no2 = 5\n",
    "\n",
    "print(\"%s / %s 올림 = %s\" %(no2, no1, math.ceil(no2 / no1)))"
   ]
  },
  {
   "cell_type": "code",
   "execution_count": 59,
   "id": "7fcae93c-65e5-4964-8716-801abf7b50f4",
   "metadata": {},
   "outputs": [],
   "source": [
    "#floor는 내림\n"
   ]
  },
  {
   "cell_type": "code",
   "execution_count": 62,
   "id": "d7180a73-e193-400a-86b2-f097207fc0b7",
   "metadata": {},
   "outputs": [
    {
     "name": "stdout",
     "output_type": "stream",
     "text": [
      "파이썬 존나 어렵죠\n",
      "파\n",
      "파이썬 \n"
     ]
    }
   ],
   "source": [
    "str1 = \"파이썬 존나 어렵죠\"\n",
    "\n",
    "print(str1)\n",
    "print(str1[0])\n",
    "print(str1[0:4])"
   ]
  },
  {
   "cell_type": "code",
   "execution_count": 66,
   "id": "3fa8cac0-88c5-4e5a-a8ec-f62e2324f671",
   "metadata": {},
   "outputs": [
    {
     "name": "stdout",
     "output_type": "stream",
     "text": [
      "<------------왼쪽에 공백이 있쥬\n",
      "오른 쪽에 공백이 있쥬---------->\n",
      "<----양쪽에 공백이 있쥬---->\n"
     ]
    }
   ],
   "source": [
    "# 공백 없애기 lstrip, rstrip, strip\n",
    "\n",
    "str1 = \"         <------------왼쪽에 공백이 있쥬\"\n",
    "str2 = \"오른 쪽에 공백이 있쥬---------->        \"\n",
    "str3 = \"      <----양쪽에 공백이 있쥬---->      \"\n",
    "\n",
    "print(str1.lstrip())\n",
    "print(str2.rstrip())\n",
    "print(str3.strip())"
   ]
  },
  {
   "cell_type": "code",
   "execution_count": 70,
   "id": "f4344f9f-d369-4d3c-bd68-4d9dfcb827f1",
   "metadata": {},
   "outputs": [
    {
     "name": "stdout",
     "output_type": "stream",
     "text": [
      "나는 안준현\n"
     ]
    }
   ],
   "source": [
    "# 바꾸기 replace\n",
    "\n",
    "str1 = \"나는 준현\"\n",
    "print(str1.replace(\"준현\", \"안준현\"))"
   ]
  },
  {
   "cell_type": "code",
   "execution_count": 75,
   "id": "a978bcf1-0e45-4c9b-be44-ad401fe6e5d7",
   "metadata": {},
   "outputs": [
    {
     "name": "stdout",
     "output_type": "stream",
     "text": [
      "['010', '1234', '5678']\n",
      "['010', '1234-5678']\n"
     ]
    }
   ],
   "source": [
    "# 나눠버리기 split(\"원하는 문자\", 몇번째 문자인지\"\n",
    "tel = \"010-1234-5678\"\n",
    "print(tel.split(\"-\"))\n",
    "print(tel.split(\"-\", 1))"
   ]
  },
  {
   "cell_type": "code",
   "execution_count": 77,
   "id": "6ee44d1c-8841-45cd-9ef3-7f3c0fa398bb",
   "metadata": {},
   "outputs": [
    {
     "name": "stdout",
     "output_type": "stream",
     "text": [
      "7\n",
      "3\n"
     ]
    }
   ],
   "source": [
    "# len\n",
    "str1 = \"파이썬 좋아요\"\n",
    "str2 = [\"파이썬\", \"C언어\", \"자바\"]\n",
    "\n",
    "print(len(str1))\n",
    "print(len(str2))"
   ]
  },
  {
   "cell_type": "code",
   "execution_count": 79,
   "id": "55f28be6-2baf-4233-8782-1ca1f453231d",
   "metadata": {},
   "outputs": [
    {
     "name": "stdout",
     "output_type": "stream",
     "text": [
      "++++++++++++++++++++++++++++++++++++++++++++++++++++++++++++++++++++++++++++++++\n",
      "문자열 연산자 쉽쥬?\n",
      "================================================================================\n"
     ]
    }
   ],
   "source": [
    "# 문자열 연산하기\n",
    "print(\"+\" * 80)\n",
    "print(\"문자열 연산자 쉽쥬?\")\n",
    "print(\"=\" * 80)"
   ]
  },
  {
   "cell_type": "code",
   "execution_count": 92,
   "id": "77752370-00af-41c0-aa64-553bdce93ce6",
   "metadata": {},
   "outputs": [
    {
     "name": "stdout",
     "output_type": "stream",
     "text": [
      "['하나', '둘', '셋']\n",
      "['하나', '둘', '셋', '넷']\n",
      "['하나', '1.5', '둘', '셋', '넷']\n",
      "['하나', '둘', '셋', '넷']\n",
      "['하나', '둘', '셋']\n"
     ]
    }
   ],
   "source": [
    "# list\n",
    "list1 = [\"하나\", \"둘\", \"셋\"]\n",
    "print(list1)\n",
    "\n",
    "list1.append(\"넷\")\n",
    "print(list1)\n",
    "\n",
    "list1.insert(1, \"1.5\")\n",
    "print(list1)\n",
    "\n",
    "del list1[1]\n",
    "print(list1)\n",
    "\n",
    "list1.remove(\"넷\")\n",
    "print(list1)"
   ]
  },
  {
   "cell_type": "code",
   "execution_count": 93,
   "id": "beec9328-ed16-4144-a5a6-46feef714307",
   "metadata": {},
   "outputs": [
    {
     "name": "stdout",
     "output_type": "stream",
     "text": [
      "[1, 2, 3, 4, 5]\n",
      "[5, 4, 3, 2, 1]\n"
     ]
    }
   ],
   "source": [
    "# sort: 오름차순, reverse: 내림차순\n",
    "list = [3, 1, 2, 5, 4]\n",
    "\n",
    "list.sort()\n",
    "print(list)\n",
    "\n",
    "list.reverse()\n",
    "print(list)"
   ]
  }
 ],
 "metadata": {
  "kernelspec": {
   "display_name": "Python 3 (ipykernel)",
   "language": "python",
   "name": "python3"
  },
  "language_info": {
   "codemirror_mode": {
    "name": "ipython",
    "version": 3
   },
   "file_extension": ".py",
   "mimetype": "text/x-python",
   "name": "python",
   "nbconvert_exporter": "python",
   "pygments_lexer": "ipython3",
   "version": "3.8.5"
  }
 },
 "nbformat": 4,
 "nbformat_minor": 5
}
