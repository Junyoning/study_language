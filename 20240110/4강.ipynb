{
 "cells": [
  {
   "cell_type": "markdown",
   "id": "64f2c1ac-56ef-4537-8ab9-1fab68e836e9",
   "metadata": {},
   "source": []
  },
  {
   "cell_type": "code",
   "execution_count": 7,
   "id": "920a3ec6-57e0-43aa-a1ea-b48e3574dd08",
   "metadata": {},
   "outputs": [
    {
     "name": "stdin",
     "output_type": "stream",
     "text": [
      "조회 할 사람의 이름을 입력하시오:  dk\n"
     ]
    },
    {
     "name": "stdout",
     "output_type": "stream",
     "text": [
      "정보가 없습니다.\n"
     ]
    }
   ],
   "source": [
    "name = input(\"조회 할 사람의 이름을 입력하시오: \")\n",
    "\n",
    "if name == \"안준현\":\n",
    "    print('25세, 남')\n",
    "else:\n",
    "    print(\"정보가 없습니다.\")"
   ]
  },
  {
   "cell_type": "code",
   "execution_count": 20,
   "id": "716f4b25-957b-4c34-bc32-57e8e6252dee",
   "metadata": {},
   "outputs": [
    {
     "name": "stdin",
     "output_type": "stream",
     "text": [
      "점수를 입력하시오:  50\n"
     ]
    },
    {
     "name": "stdout",
     "output_type": "stream",
     "text": [
      "학점: F\n"
     ]
    }
   ],
   "source": [
    "score = int(input(\"점수를 입력하시오: \"))\n",
    "\n",
    "if score >= 90:\n",
    "    print(\"학점: A\")\n",
    "elif score < 90 and score >= 80:\n",
    "    print(\"학점: B\")\n",
    "else:\n",
    "    print(\"학점: F\")"
   ]
  },
  {
   "cell_type": "code",
   "execution_count": 22,
   "id": "605ec759-4fe3-466a-abdd-5fffffcc449a",
   "metadata": {},
   "outputs": [
    {
     "name": "stdin",
     "output_type": "stream",
     "text": [
      "Y 또는 y를 입력하시오:  7\n"
     ]
    },
    {
     "name": "stdout",
     "output_type": "stream",
     "text": [
      "Y 또는 y를 입력하새요.\n"
     ]
    }
   ],
   "source": [
    "str = input(\"Y 또는 y를 입력하시오: \")\n",
    "\n",
    "if str == \"Y\" or str == \"y\":\n",
    "    print(\"입력한 문자는 %s입니다\" %str)\n",
    "else:\n",
    "    print(\"Y 또는 y를 입력하새요.\")"
   ]
  },
  {
   "cell_type": "code",
   "execution_count": null,
   "id": "d5f61d60-4254-401f-a08f-ef1278abf847",
   "metadata": {},
   "outputs": [],
   "source": []
  }
 ],
 "metadata": {
  "kernelspec": {
   "display_name": "Python 3 (ipykernel)",
   "language": "python",
   "name": "python3"
  },
  "language_info": {
   "codemirror_mode": {
    "name": "ipython",
    "version": 3
   },
   "file_extension": ".py",
   "mimetype": "text/x-python",
   "name": "python",
   "nbconvert_exporter": "python",
   "pygments_lexer": "ipython3",
   "version": "3.8.5"
  }
 },
 "nbformat": 4,
 "nbformat_minor": 5
}
