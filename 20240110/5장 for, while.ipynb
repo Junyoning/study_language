{
 "cells": [
  {
   "cell_type": "code",
   "execution_count": 3,
   "id": "0e0af8d8-13aa-4eb7-8453-9947b5242ad2",
   "metadata": {},
   "outputs": [
    {
     "name": "stdout",
     "output_type": "stream",
     "text": [
      "1\n",
      "2\n",
      "3\n"
     ]
    }
   ],
   "source": [
    "for i in (1, 2, 3):\n",
    "    print(i)"
   ]
  },
  {
   "cell_type": "code",
   "execution_count": 5,
   "id": "3bbc10ab-e415-4d5f-8eb5-540a91d4cb4b",
   "metadata": {},
   "outputs": [
    {
     "name": "stdout",
     "output_type": "stream",
     "text": [
      "하나\n",
      "둘\n",
      "셋\n"
     ]
    }
   ],
   "source": [
    "data = [\"하나\", \"둘\", \"셋\"]\n",
    "\n",
    "for i in data:\n",
    "    print(i)"
   ]
  },
  {
   "cell_type": "code",
   "execution_count": 7,
   "id": "9776d91f-30c0-40ac-9d64-623d3baf30fa",
   "metadata": {},
   "outputs": [
    {
     "name": "stdout",
     "output_type": "stream",
     "text": [
      "이순신은(는) 우리나라의 위인이다.\n",
      "김구은(는) 우리나라의 위인이다.\n",
      "유관순은(는) 우리나라의 위인이다.\n"
     ]
    }
   ],
   "source": [
    "data = [\"이순신\", \"김구\", \"유관순\"]\n",
    "\n",
    "for i in data:\n",
    "    print(\"%s은(는) 우리나라의 위인이다.\" %i)"
   ]
  },
  {
   "cell_type": "code",
   "execution_count": 10,
   "id": "601680a9-69cc-4a85-a974-7cb844b40763",
   "metadata": {},
   "outputs": [
    {
     "name": "stdout",
     "output_type": "stream",
     "text": [
      "1\n",
      "2\n",
      "3\n",
      "4\n"
     ]
    }
   ],
   "source": [
    "for i in range(1,5):\n",
    "    print(i)"
   ]
  },
  {
   "cell_type": "code",
   "execution_count": 17,
   "id": "374c42d7-d0e5-4615-aa43-4f42e651cf50",
   "metadata": {},
   "outputs": [
    {
     "name": "stdout",
     "output_type": "stream",
     "text": [
      "1단\n",
      "1 x 1 = 1\n",
      "1 x 2 = 2\n",
      "1 x 3 = 3\n",
      "1 x 4 = 4\n",
      "1 x 5 = 5\n",
      "1 x 6 = 6\n",
      "1 x 7 = 7\n",
      "1 x 8 = 8\n",
      "1 x 9 = 9\n",
      " \n",
      "2단\n",
      "2 x 1 = 2\n",
      "2 x 2 = 4\n",
      "2 x 3 = 6\n",
      "2 x 4 = 8\n",
      "2 x 5 = 10\n",
      "2 x 6 = 12\n",
      "2 x 7 = 14\n",
      "2 x 8 = 16\n",
      "2 x 9 = 18\n",
      " \n",
      "3단\n",
      "3 x 1 = 3\n",
      "3 x 2 = 6\n",
      "3 x 3 = 9\n",
      "3 x 4 = 12\n",
      "3 x 5 = 15\n",
      "3 x 6 = 18\n",
      "3 x 7 = 21\n",
      "3 x 8 = 24\n",
      "3 x 9 = 27\n",
      " \n",
      "4단\n",
      "4 x 1 = 4\n",
      "4 x 2 = 8\n",
      "4 x 3 = 12\n",
      "4 x 4 = 16\n",
      "4 x 5 = 20\n",
      "4 x 6 = 24\n",
      "4 x 7 = 28\n",
      "4 x 8 = 32\n",
      "4 x 9 = 36\n",
      " \n",
      "5단\n",
      "5 x 1 = 5\n",
      "5 x 2 = 10\n",
      "5 x 3 = 15\n",
      "5 x 4 = 20\n",
      "5 x 5 = 25\n",
      "5 x 6 = 30\n",
      "5 x 7 = 35\n",
      "5 x 8 = 40\n",
      "5 x 9 = 45\n",
      " \n",
      "6단\n",
      "6 x 1 = 6\n",
      "6 x 2 = 12\n",
      "6 x 3 = 18\n",
      "6 x 4 = 24\n",
      "6 x 5 = 30\n",
      "6 x 6 = 36\n",
      "6 x 7 = 42\n",
      "6 x 8 = 48\n",
      "6 x 9 = 54\n",
      " \n",
      "7단\n",
      "7 x 1 = 7\n",
      "7 x 2 = 14\n",
      "7 x 3 = 21\n",
      "7 x 4 = 28\n",
      "7 x 5 = 35\n",
      "7 x 6 = 42\n",
      "7 x 7 = 49\n",
      "7 x 8 = 56\n",
      "7 x 9 = 63\n",
      " \n",
      "8단\n",
      "8 x 1 = 8\n",
      "8 x 2 = 16\n",
      "8 x 3 = 24\n",
      "8 x 4 = 32\n",
      "8 x 5 = 40\n",
      "8 x 6 = 48\n",
      "8 x 7 = 56\n",
      "8 x 8 = 64\n",
      "8 x 9 = 72\n",
      " \n",
      "9단\n",
      "9 x 1 = 9\n",
      "9 x 2 = 18\n",
      "9 x 3 = 27\n",
      "9 x 4 = 36\n",
      "9 x 5 = 45\n",
      "9 x 6 = 54\n",
      "9 x 7 = 63\n",
      "9 x 8 = 72\n",
      "9 x 9 = 81\n",
      " \n"
     ]
    }
   ],
   "source": [
    "#구구단\n",
    "for i in range(1,10):\n",
    "    print(\"%s단\" %i)\n",
    "    for j in range(1,10):\n",
    "        print(\"%s x %s = %s\" %(i, j, i*j))\n",
    "    print(\" \")"
   ]
  },
  {
   "cell_type": "code",
   "execution_count": 22,
   "id": "20202694-22b3-479a-b0a7-fcf588ee6793",
   "metadata": {},
   "outputs": [
    {
     "name": "stdin",
     "output_type": "stream",
     "text": [
      "수를 입력하시오:  1\n"
     ]
    },
    {
     "name": "stdout",
     "output_type": "stream",
     "text": [
      "1  x  1  =  1\n",
      "1  x  2  =  2\n",
      "1  x  3  =  3\n",
      "1  x  4  =  4\n",
      "1  x  5  =  5\n",
      "1  x  6  =  6\n",
      "1  x  7  =  7\n",
      "1  x  8  =  8\n",
      "1  x  9  =  9\n"
     ]
    }
   ],
   "source": [
    "no = int(input(\"수를 입력하시오: \"))\n",
    "\n",
    "for i in range(1, 10):\n",
    "    print(no, ' x ', i, ' = ', no*i) "
   ]
  },
  {
   "cell_type": "code",
   "execution_count": 25,
   "id": "a988eb52-d6b9-4688-b3e2-97ae8bc0b768",
   "metadata": {},
   "outputs": [
    {
     "name": "stdin",
     "output_type": "stream",
     "text": [
      "원하는 수 입력:  10\n"
     ]
    },
    {
     "name": "stdout",
     "output_type": "stream",
     "text": [
      "2\n",
      "4\n",
      "6\n",
      "8\n",
      "10\n"
     ]
    }
   ],
   "source": [
    "# 1부터 입력 받은 수 까지 짝수만 출력\n",
    "\n",
    "no = int(input(\"원하는 수 입력: \"))\n",
    "\n",
    "for i in range(1, no+1):\n",
    "    if i % 2 == 0:\n",
    "        print(i)"
   ]
  },
  {
   "cell_type": "code",
   "execution_count": null,
   "id": "061f1224-e496-44b6-a78c-917c97e05ef8",
   "metadata": {},
   "outputs": [],
   "source": [
    "# 1부터 입력 받은 수 까지 홀수만 출력\n",
    "\n",
    "no = int(input(\"원하는 수 입력: \"))\n",
    "\n",
    "for i in range(1, no+1):\n",
    "    if i % 2 != 0:\n",
    "        print(i)"
   ]
  },
  {
   "cell_type": "code",
   "execution_count": null,
   "id": "f8d2965d-0cf2-4783-b84f-9bb01b6cb1ee",
   "metadata": {},
   "outputs": [],
   "source": [
    "no = 1\n",
    "\n",
    "while no < 9:\n",
    "    print(no)\n",
    "    no += 1"
   ]
  },
  {
   "cell_type": "code",
   "execution_count": 1,
   "id": "1cc3329a-0442-4ce3-997d-7c26d4f54c11",
   "metadata": {},
   "outputs": [
    {
     "name": "stdout",
     "output_type": "stream",
     "text": [
      "2\n",
      "3\n",
      "4\n",
      "5\n",
      "6\n",
      "7\n",
      "8\n",
      "9\n"
     ]
    }
   ],
   "source": [
    "no1 = 1\n",
    "\n",
    "while no1 < 9:\n",
    "    no1 += 1\n",
    "    print(no1)"
   ]
  },
  {
   "cell_type": "code",
   "execution_count": 5,
   "id": "f1174978-3a1a-4b44-911a-409f5fd196b1",
   "metadata": {},
   "outputs": [
    {
     "name": "stdout",
     "output_type": "stream",
     "text": [
      "1 x 1 = 1\n",
      "1 x 2 = 2\n",
      "1 x 3 = 3\n",
      "1 x 4 = 4\n",
      "1 x 5 = 5\n",
      "1 x 6 = 6\n",
      "1 x 7 = 7\n",
      "1 x 8 = 8\n",
      "1 x 9 = 9\n",
      "2 x 1 = 2\n",
      "2 x 2 = 4\n",
      "2 x 3 = 6\n",
      "2 x 4 = 8\n",
      "2 x 5 = 10\n",
      "2 x 6 = 12\n",
      "2 x 7 = 14\n",
      "2 x 8 = 16\n",
      "2 x 9 = 18\n",
      "3 x 1 = 3\n",
      "3 x 2 = 6\n",
      "3 x 3 = 9\n",
      "3 x 4 = 12\n",
      "3 x 5 = 15\n",
      "3 x 6 = 18\n",
      "3 x 7 = 21\n",
      "3 x 8 = 24\n",
      "3 x 9 = 27\n"
     ]
    }
   ],
   "source": [
    "# 구구단 만들기\n",
    "\n",
    "no = 1\n",
    "\n",
    "while no <= 3:\n",
    "    no1 = 1\n",
    "    while no1 <= 9:\n",
    "        print('%s x %s = %s' %(no, no1, no*no1))\n",
    "        no1 += 1\n",
    "    no += 1"
   ]
  },
  {
   "cell_type": "code",
   "execution_count": 9,
   "id": "9eec11c9-7e3b-40e1-ab62-70ed404f6570",
   "metadata": {},
   "outputs": [
    {
     "name": "stdout",
     "output_type": "stream",
     "text": [
      "새우깡 존맛탱구리\n",
      "포테토칩 존맛탱구리\n"
     ]
    }
   ],
   "source": [
    "snack = [\"새우깡\", \"포테토칩\", \"먹태깡\", \"홈런볼\", \"허니버터칩\"]\n",
    "\n",
    "for i in snack:\n",
    "    if i == \"먹태깡\":\n",
    "        break\n",
    "    print(i, \"존맛탱구리\")"
   ]
  },
  {
   "cell_type": "code",
   "execution_count": 10,
   "id": "117f85c8-b576-44cd-beaf-5b4df4d3efcc",
   "metadata": {},
   "outputs": [
    {
     "name": "stdout",
     "output_type": "stream",
     "text": [
      "새우깡 존맛탱구리\n",
      "포테토칩 존맛탱구리\n",
      "홈런볼 존맛탱구리\n",
      "허니버터칩 존맛탱구리\n"
     ]
    }
   ],
   "source": [
    "snack = [\"새우깡\", \"포테토칩\", \"먹태깡\", \"홈런볼\", \"허니버터칩\"]\n",
    "\n",
    "for i in snack:\n",
    "    if i == \"먹태깡\":\n",
    "        continue\n",
    "    print(i, \"존맛탱구리\")"
   ]
  }
 ],
 "metadata": {
  "kernelspec": {
   "display_name": "Python 3 (ipykernel)",
   "language": "python",
   "name": "python3"
  },
  "language_info": {
   "codemirror_mode": {
    "name": "ipython",
    "version": 3
   },
   "file_extension": ".py",
   "mimetype": "text/x-python",
   "name": "python",
   "nbconvert_exporter": "python",
   "pygments_lexer": "ipython3",
   "version": "3.8.5"
  }
 },
 "nbformat": 4,
 "nbformat_minor": 5
}
