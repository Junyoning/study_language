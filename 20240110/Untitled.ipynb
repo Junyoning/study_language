{
 "cells": [
  {
   "cell_type": "code",
   "execution_count": 4,
   "id": "c2ef482d-dd4e-42a9-97e8-6ac1ccb58705",
   "metadata": {},
   "outputs": [
    {
     "name": "stdout",
     "output_type": "stream",
     "text": [
      "3 * 1 = 3\n"
     ]
    }
   ],
   "source": [
    "# 사용자 정의 함수\n",
    "\n",
    "def gop(x, y):\n",
    "    result = print(\"%s * %s = %s\" %(x, y, x*y))\n",
    "    return result\n",
    "\n",
    "gop(3, 1)"
   ]
  },
  {
   "cell_type": "code",
   "execution_count": 7,
   "id": "dd5e2335-abaa-4fd7-bb5d-aa4eec5813d0",
   "metadata": {},
   "outputs": [
    {
     "name": "stdout",
     "output_type": "stream",
     "text": [
      "입력한 수의 총 합은 9\n",
      "입력한 수의 총 합은 14\n"
     ]
    }
   ],
   "source": [
    "def hap(*x):\n",
    "    pluse = 0\n",
    "    for i in x:\n",
    "        pluse += i\n",
    "    return (\"입력한 수의 총 합은 %s\" %pluse)\n",
    "\n",
    "print(hap(1, 3, 5))\n",
    "print(hap(2, 3, 4, 5))"
   ]
  },
  {
   "cell_type": "code",
   "execution_count": 11,
   "id": "c50dce9f-c8c8-4a67-8be0-533c1a60d734",
   "metadata": {},
   "outputs": [
    {
     "name": "stdout",
     "output_type": "stream",
     "text": [
      "2\n"
     ]
    }
   ],
   "source": [
    "#두 숫자를 입력받아 큰 수에서 작은 수 뺴기\n",
    "\n",
    "def p(x, y):\n",
    "    if x > y:\n",
    "        min = x - y\n",
    "    else:\n",
    "        min = y - x\n",
    "    return min\n",
    "\n",
    "print(p(3, 5))"
   ]
  },
  {
   "cell_type": "code",
   "execution_count": 32,
   "id": "6893c892-8bca-4077-a604-f26e60f502ed",
   "metadata": {},
   "outputs": [
    {
     "name": "stdout",
     "output_type": "stream",
     "text": [
      "6\n",
      "\n",
      "센세의 풀이\n"
     ]
    },
    {
     "data": {
      "text/plain": [
       "89"
      ]
     },
     "execution_count": 32,
     "metadata": {},
     "output_type": "execute_result"
    }
   ],
   "source": [
    "#여러개의 숫자를 입력 받아서 가장 큰 값 출력\n",
    "\n",
    "def max(*x):\n",
    "    x = list(x)\n",
    "    x.reverse()\n",
    "    print(x[0])\n",
    "\n",
    "max(2, 3, 1, 5, 4, 6)\n",
    "\n",
    "print(\"\\n센세의 풀이\")\n",
    "\n",
    "def maxprint(*a):\n",
    "    max = 0\n",
    "    for i in a:\n",
    "        if i > max:\n",
    "            max = i\n",
    "    return max\n",
    "\n",
    "maxprint(2, 4, 1, 5, 6, 7 ,8, 89)"
   ]
  },
  {
   "cell_type": "code",
   "execution_count": 6,
   "id": "905cb093-0a8a-477a-9e16-b2bf3b660bd8",
   "metadata": {},
   "outputs": [
    {
     "data": {
      "text/plain": [
       "35"
      ]
     },
     "execution_count": 6,
     "metadata": {},
     "output_type": "execute_result"
    }
   ],
   "source": [
    "#임의의 숫자 입력 받은 후 총합 구하기\n",
    "\n",
    "def a(*x):\n",
    "    sum = 0\n",
    "    for i in x:\n",
    "        sum += i\n",
    "    return sum\n",
    "a(2, 3, 4, 5, 6, 7, 8)"
   ]
  },
  {
   "cell_type": "code",
   "execution_count": 102,
   "id": "24ced782-ff70-4fc4-9be5-7d7b4771fe81",
   "metadata": {},
   "outputs": [
    {
     "data": {
      "text/plain": [
       "4"
      ]
     },
     "execution_count": 102,
     "metadata": {},
     "output_type": "execute_result"
    }
   ],
   "source": [
    "#임의의 갯수 숫자 입력 후 가장 큰 값에서 가장 작은 값 빼기\n",
    "\n",
    "def a(*x):\n",
    "    m = 0\n",
    "    for i in x:\n",
    "        if i > m:\n",
    "            m = i\n",
    "\n",
    "    n = 99999999999999999999999999999999999999999999999999999999999999999999999999999999999999999999999999\n",
    "    for i in x:\n",
    "        if i <n:\n",
    "            n = i\n",
    "    return m - n\n",
    "\n",
    "\n",
    "a(3, 2, 1, 5)"
   ]
  },
  {
   "cell_type": "code",
   "execution_count": null,
   "id": "50ec4ca3-6b45-4aff-a326-70fd822688c4",
   "metadata": {},
   "outputs": [],
   "source": []
  }
 ],
 "metadata": {
  "kernelspec": {
   "display_name": "Python 3 (ipykernel)",
   "language": "python",
   "name": "python3"
  },
  "language_info": {
   "codemirror_mode": {
    "name": "ipython",
    "version": 3
   },
   "file_extension": ".py",
   "mimetype": "text/x-python",
   "name": "python",
   "nbconvert_exporter": "python",
   "pygments_lexer": "ipython3",
   "version": "3.8.5"
  }
 },
 "nbformat": 4,
 "nbformat_minor": 5
}
