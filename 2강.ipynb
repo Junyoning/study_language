{
 "cells": [
  {
   "cell_type": "code",
   "execution_count": 1,
   "id": "8f3b2df7-4a76-4103-a39a-a015a424cc68",
   "metadata": {},
   "outputs": [
    {
     "name": "stdout",
     "output_type": "stream",
     "text": [
      "var1:  10\n",
      "var2:  20\n",
      "var3:  30\n",
      "var4:  30\n"
     ]
    }
   ],
   "source": [
    "var1 = 10\n",
    "print('var1: ', var1)\n",
    "\n",
    "var2 = 20\n",
    "print('var2: ', var2)\n",
    "\n",
    "var3 = var4 = 30\n",
    "print('var3: ', var3)\n",
    "print('var4: ', var4)"
   ]
  },
  {
   "cell_type": "code",
   "execution_count": 2,
   "id": "18782927-d45f-465e-992e-72ecc0f89bf6",
   "metadata": {},
   "outputs": [
    {
     "name": "stdout",
     "output_type": "stream",
     "text": [
      "3\n",
      "30\n",
      "200\n"
     ]
    }
   ],
   "source": [
    "print(1 + 2)\n",
    "print(var1 + var2)\n",
    "print(var1 * var2)\n"
   ]
  },
  {
   "cell_type": "code",
   "execution_count": 3,
   "id": "d2205623-cb1c-4ee3-ae10-f4e51c7e0e09",
   "metadata": {},
   "outputs": [
    {
     "name": "stdout",
     "output_type": "stream",
     "text": [
      "배가 고파서 밥을 5 그릇 먹었어요\n"
     ]
    }
   ],
   "source": [
    "bab = 5\n",
    "print(\"배가 고파서 밥을 %s 그릇 먹었어요\" %bab)"
   ]
  },
  {
   "cell_type": "code",
   "execution_count": 13,
   "id": "06e121aa-d2df-4b31-9480-78fc6244cfd4",
   "metadata": {},
   "outputs": [
    {
     "name": "stdout",
     "output_type": "stream",
     "text": [
      "내 영어점수는 10점이고 수학점수는 20점이다.\n"
     ]
    }
   ],
   "source": [
    "math = 20\n",
    "eng = 10\n",
    "print(\"내 영어점수는 %s점이고 수학점수는 %s점이다.\" %(eng, math))"
   ]
  },
  {
   "cell_type": "code",
   "execution_count": 15,
   "id": "27042e97-cb33-4ceb-94c6-1e73e39a66e7",
   "metadata": {},
   "outputs": [
    {
     "name": "stdout",
     "output_type": "stream",
     "text": [
      "내 이름은 안준현이다.\n"
     ]
    }
   ],
   "source": [
    "name = \"안준현\"\n",
    "s = \"내 이름은 {}이다.\"\n",
    "\n",
    "print(s.format(name))"
   ]
  },
  {
   "cell_type": "code",
   "execution_count": 21,
   "id": "9f472690-b587-4dfa-b20e-4aecd3ae603b",
   "metadata": {},
   "outputs": [
    {
     "name": "stdout",
     "output_type": "stream",
     "text": [
      "나는 25살 안준현이다. 내 취미는 잠자기이다.\n"
     ]
    }
   ],
   "source": [
    "name = \"안준현\"\n",
    "hobby = \"잠자기\"\n",
    "age = 25\n",
    "s = \"나는 {}살 {}이다. 내 취미는 {}이다.\"\n",
    "\n",
    "print(s.format(age, name, hobby))"
   ]
  },
  {
   "cell_type": "code",
   "execution_count": null,
   "id": "c4b337d4-6dc6-4c77-b373-8ab5075d3be9",
   "metadata": {},
   "outputs": [],
   "source": [
    "menu = input(\"오늘 뭐 먹을까? \")"
   ]
  },
  {
   "cell_type": "code",
   "execution_count": null,
   "id": "487ab8c6-59f5-4b1c-a237-eb3805e83112",
   "metadata": {},
   "outputs": [],
   "source": []
  }
 ],
 "metadata": {
  "kernelspec": {
   "display_name": "Python 3 (ipykernel)",
   "language": "python",
   "name": "python3"
  },
  "language_info": {
   "codemirror_mode": {
    "name": "ipython",
    "version": 3
   },
   "file_extension": ".py",
   "mimetype": "text/x-python",
   "name": "python",
   "nbconvert_exporter": "python",
   "pygments_lexer": "ipython3",
   "version": "3.8.5"
  }
 },
 "nbformat": 4,
 "nbformat_minor": 5
}
